{
 "cells": [
  {
   "cell_type": "code",
   "execution_count": 1,
   "id": "79bea249-29b3-4b7b-98e5-6f16b5549c07",
   "metadata": {},
   "outputs": [],
   "source": [
    "#!pip install pymongo"
   ]
  },
  {
   "cell_type": "code",
   "execution_count": 2,
   "id": "ba250879-9457-4f90-95ba-b9f220443a2a",
   "metadata": {},
   "outputs": [],
   "source": [
    "import pymongo"
   ]
  },
  {
   "cell_type": "code",
   "execution_count": 3,
   "id": "680e4b28-c553-423e-a51a-b286f49c5ec7",
   "metadata": {},
   "outputs": [],
   "source": [
    "myclient=pymongo.MongoClient(\"mongodb://localhost:27017/\")"
   ]
  },
  {
   "cell_type": "code",
   "execution_count": 30,
   "id": "ef160c1f-7e6a-4271-9954-f216ec1174ac",
   "metadata": {},
   "outputs": [
    {
     "data": {
      "text/plain": [
       "['Tutort', 'admin', 'config', 'local']"
      ]
     },
     "execution_count": 30,
     "metadata": {},
     "output_type": "execute_result"
    }
   ],
   "source": [
    "#list the database\n",
    "myclient.list_database_names()"
   ]
  },
  {
   "cell_type": "code",
   "execution_count": 31,
   "id": "fd2e4660-0231-4ec2-96c5-8b24e898394d",
   "metadata": {},
   "outputs": [],
   "source": [
    "mydb=myclient['Tutort']"
   ]
  },
  {
   "cell_type": "code",
   "execution_count": 32,
   "id": "7eaf6472-77e0-486f-8f39-706ec95b23f5",
   "metadata": {},
   "outputs": [
    {
     "data": {
      "text/plain": [
       "['students']"
      ]
     },
     "execution_count": 32,
     "metadata": {},
     "output_type": "execute_result"
    }
   ],
   "source": [
    "mydb.list_collection_names()"
   ]
  },
  {
   "cell_type": "code",
   "execution_count": 33,
   "id": "1a3cee8d-d684-45e3-b0a3-b9cc110eb101",
   "metadata": {},
   "outputs": [],
   "source": [
    "collection=mydb['Teachers']"
   ]
  },
  {
   "cell_type": "code",
   "execution_count": 34,
   "id": "1a50fbc6-2744-4761-9594-e2ce3728e279",
   "metadata": {},
   "outputs": [
    {
     "data": {
      "text/plain": [
       "['students']"
      ]
     },
     "execution_count": 34,
     "metadata": {},
     "output_type": "execute_result"
    }
   ],
   "source": [
    "mydb.list_collection_names()"
   ]
  },
  {
   "cell_type": "code",
   "execution_count": 35,
   "id": "c7210bcb-e4d7-4351-9603-d953919cf14e",
   "metadata": {},
   "outputs": [],
   "source": [
    "teachers_list = [\n",
    "    {\n",
    "        \"name\": \"Alice Johnson\",\n",
    "        \"subject\": \"Mathematics\",\n",
    "        \"years_of_experience\": 10,\n",
    "        \"contact\": {\n",
    "            \"email\": \"alice.johnson@example.com\",\n",
    "            \"phone\": \"555-1234\"\n",
    "        },\n",
    "        \"courses\": [\"Algebra\", \"Calculus\", \"Geometry\"]\n",
    "    },\n",
    "    {\n",
    "        \"name\": \"Bob Smith\",\n",
    "        \"subject\": \"Science\",\n",
    "        \"years_of_experience\": 8,\n",
    "        \"contact\": {\n",
    "            \"email\": \"bob.smith@example.com\",\n",
    "            \"phone\": \"555-5678\"\n",
    "        },\n",
    "        \"courses\": [\"Physics\", \"Chemistry\", \"Biology\"]\n",
    "    },\n",
    "    {\n",
    "        \"name\": \"Carol Davis\",\n",
    "        \"subject\": \"History\",\n",
    "        \"years_of_experience\": 12,\n",
    "        \"contact\": {\n",
    "            \"email\": \"carol.davis@example.com\",\n",
    "            \"phone\": \"555-8765\"\n",
    "        },\n",
    "        \"courses\": [\"World History\", \"American History\", \"European History\"]\n",
    "    },\n",
    "    {\n",
    "        \"name\": \"David Wilson\",\n",
    "        \"subject\": \"English\",\n",
    "        \"years_of_experience\": 5,\n",
    "        \"contact\": {\n",
    "            \"email\": \"david.wilson@example.com\",\n",
    "            \"phone\": \"555-4321\"\n",
    "        },\n",
    "        \"courses\": [\"Literature\", \"Composition\", \"Creative Writing\"]\n",
    "    },\n",
    "    {\n",
    "        \"name\": \"Eve Brown\",\n",
    "        \"subject\": \"Computer Science\",\n",
    "        \"years_of_experience\": 7,\n",
    "        \"contact\": {\n",
    "            \"email\": \"eve.brown@example.com\",\n",
    "            \"phone\": \"555-6789\"\n",
    "        },\n",
    "        \"courses\": [\"Programming\", \"Data Structures\", \"Algorithms\"]\n",
    "    }\n",
    "]\n"
   ]
  },
  {
   "cell_type": "code",
   "execution_count": 36,
   "id": "dbb880b1-c8ba-4854-9e3f-17bdcaba64bf",
   "metadata": {},
   "outputs": [],
   "source": [
    "data=collection.insert_many(teachers_list)"
   ]
  },
  {
   "cell_type": "code",
   "execution_count": 37,
   "id": "a40b4e41-643d-42d2-add0-2036ba977641",
   "metadata": {},
   "outputs": [
    {
     "data": {
      "text/plain": [
       "['students', 'Teachers']"
      ]
     },
     "execution_count": 37,
     "metadata": {},
     "output_type": "execute_result"
    }
   ],
   "source": [
    "mydb.list_collection_names()"
   ]
  },
  {
   "cell_type": "code",
   "execution_count": 38,
   "id": "38c842ad-3f3e-48e0-aae6-c143860763b8",
   "metadata": {},
   "outputs": [
    {
     "name": "stdout",
     "output_type": "stream",
     "text": [
      "InsertManyResult([ObjectId('676faf187609f810265ba64a'), ObjectId('676faf187609f810265ba64b'), ObjectId('676faf187609f810265ba64c'), ObjectId('676faf187609f810265ba64d'), ObjectId('676faf187609f810265ba64e')], acknowledged=True)\n"
     ]
    }
   ],
   "source": [
    "print(data)"
   ]
  },
  {
   "cell_type": "code",
   "execution_count": 39,
   "id": "dcf1be1e-505f-450f-850b-2375765e3c37",
   "metadata": {},
   "outputs": [],
   "source": [
    "data=collection.find()"
   ]
  },
  {
   "cell_type": "code",
   "execution_count": 40,
   "id": "2a18d306-1977-470f-b5e8-0e76db1857e6",
   "metadata": {},
   "outputs": [
    {
     "name": "stdout",
     "output_type": "stream",
     "text": [
      "{'_id': ObjectId('676faf187609f810265ba64a'), 'name': 'Alice Johnson', 'subject': 'Mathematics', 'years_of_experience': 10, 'contact': {'email': 'alice.johnson@example.com', 'phone': '555-1234'}, 'courses': ['Algebra', 'Calculus', 'Geometry']}\n",
      "{'_id': ObjectId('676faf187609f810265ba64b'), 'name': 'Bob Smith', 'subject': 'Science', 'years_of_experience': 8, 'contact': {'email': 'bob.smith@example.com', 'phone': '555-5678'}, 'courses': ['Physics', 'Chemistry', 'Biology']}\n",
      "{'_id': ObjectId('676faf187609f810265ba64c'), 'name': 'Carol Davis', 'subject': 'History', 'years_of_experience': 12, 'contact': {'email': 'carol.davis@example.com', 'phone': '555-8765'}, 'courses': ['World History', 'American History', 'European History']}\n",
      "{'_id': ObjectId('676faf187609f810265ba64d'), 'name': 'David Wilson', 'subject': 'English', 'years_of_experience': 5, 'contact': {'email': 'david.wilson@example.com', 'phone': '555-4321'}, 'courses': ['Literature', 'Composition', 'Creative Writing']}\n",
      "{'_id': ObjectId('676faf187609f810265ba64e'), 'name': 'Eve Brown', 'subject': 'Computer Science', 'years_of_experience': 7, 'contact': {'email': 'eve.brown@example.com', 'phone': '555-6789'}, 'courses': ['Programming', 'Data Structures', 'Algorithms']}\n"
     ]
    }
   ],
   "source": [
    "for i in data:\n",
    "    print(i)"
   ]
  },
  {
   "cell_type": "code",
   "execution_count": 41,
   "id": "9f76cb63-987b-44ca-a7d0-5b5c0728a75c",
   "metadata": {},
   "outputs": [
    {
     "name": "stdout",
     "output_type": "stream",
     "text": [
      "{'_id': ObjectId('676faf187609f810265ba64a'), 'name': 'Alice Johnson', 'subject': 'Mathematics', 'years_of_experience': 10, 'contact': {'email': 'alice.johnson@example.com', 'phone': '555-1234'}, 'courses': ['Algebra', 'Calculus', 'Geometry']}\n"
     ]
    }
   ],
   "source": [
    "data=collection.find({'subject':'Mathematics'})\n",
    "for i in data:\n",
    "    print(i)"
   ]
  },
  {
   "cell_type": "code",
   "execution_count": 42,
   "id": "bce327c3-3943-4e1b-bbee-f533017e11e7",
   "metadata": {},
   "outputs": [],
   "source": [
    "data=collection.insert_one({\n",
    "        \"name\": \"Alice Tiwari\",\n",
    "        \"subject\": \"Mathematics\",\n",
    "        \"years_of_experience\": 11,\n",
    "        \"contact\": {\n",
    "            \"email\": \"alice.tiwari@example.com\",\n",
    "            \"phone\": \"555-1235\"\n",
    "        },\n",
    "        \"courses\": [\"Stats\", \"Linear\", \"Quantum\"]\n",
    "    })"
   ]
  },
  {
   "cell_type": "code",
   "execution_count": 43,
   "id": "dd2abc4a-9c59-4919-9b2e-20f549b747e8",
   "metadata": {},
   "outputs": [
    {
     "name": "stdout",
     "output_type": "stream",
     "text": [
      "{'_id': ObjectId('676faf187609f810265ba64a'), 'name': 'Alice Johnson', 'subject': 'Mathematics', 'years_of_experience': 10, 'contact': {'email': 'alice.johnson@example.com', 'phone': '555-1234'}, 'courses': ['Algebra', 'Calculus', 'Geometry']}\n",
      "{'_id': ObjectId('676fafa67609f810265ba64f'), 'name': 'Alice Tiwari', 'subject': 'Mathematics', 'years_of_experience': 11, 'contact': {'email': 'alice.tiwari@example.com', 'phone': '555-1235'}, 'courses': ['Stats', 'Linear', 'Quantum']}\n"
     ]
    }
   ],
   "source": [
    "data=collection.find({'subject':'Mathematics'})\n",
    "for i in data:\n",
    "    print(i)"
   ]
  },
  {
   "cell_type": "code",
   "execution_count": 45,
   "id": "2d33fb1d-18b9-4097-8d98-4090d4c17c68",
   "metadata": {},
   "outputs": [
    {
     "name": "stdout",
     "output_type": "stream",
     "text": [
      "{'_id': ObjectId('676faf187609f810265ba64a'), 'name': 'Alice Johnson', 'years_of_experience': 10}\n",
      "{'_id': ObjectId('676faf187609f810265ba64b'), 'name': 'Bob Smith', 'years_of_experience': 8}\n",
      "{'_id': ObjectId('676faf187609f810265ba64c'), 'name': 'Carol Davis', 'years_of_experience': 12}\n",
      "{'_id': ObjectId('676faf187609f810265ba64d'), 'name': 'David Wilson', 'years_of_experience': 5}\n",
      "{'_id': ObjectId('676faf187609f810265ba64e'), 'name': 'Eve Brown', 'years_of_experience': 7}\n",
      "{'_id': ObjectId('676fafa67609f810265ba64f'), 'name': 'Alice Tiwari', 'years_of_experience': 11}\n"
     ]
    }
   ],
   "source": [
    "data=collection.find({},{'name':1,'years_of_experience':1})\n",
    "for i in data:\n",
    "    print(i)"
   ]
  },
  {
   "cell_type": "code",
   "execution_count": 46,
   "id": "80034b70-be6f-407b-aa94-1b74ba8b8706",
   "metadata": {},
   "outputs": [
    {
     "name": "stdout",
     "output_type": "stream",
     "text": [
      "{'_id': ObjectId('676faf187609f810265ba64a'), 'name': 'Alice Johnson', 'years_of_experience': 10}\n",
      "{'_id': ObjectId('676faf187609f810265ba64b'), 'name': 'Bob Smith', 'years_of_experience': 8}\n",
      "{'_id': ObjectId('676faf187609f810265ba64c'), 'name': 'Carol Davis', 'years_of_experience': 12}\n"
     ]
    }
   ],
   "source": [
    "data=collection.find({},{'name':1,'years_of_experience':1}).limit(3)\n",
    "for i in data:\n",
    "    print(i)"
   ]
  },
  {
   "cell_type": "code",
   "execution_count": 52,
   "id": "4de2572e-f3ee-43bc-b2ab-d112c736e230",
   "metadata": {},
   "outputs": [
    {
     "name": "stdout",
     "output_type": "stream",
     "text": [
      "{'_id': ObjectId('676faf187609f810265ba64a'), 'name': 'Alice Johnson', 'subject': 'Mathematics', 'years_of_experience': 10, 'contact': {'email': 'alice.johnson@example.com', 'phone': '555-1234'}, 'courses': ['Algebra', 'Calculus', 'Geometry']}\n",
      "{'_id': ObjectId('676faf187609f810265ba64c'), 'name': 'Carol Davis', 'subject': 'History', 'years_of_experience': 12, 'contact': {'email': 'carol.davis@example.com', 'phone': '555-8765'}, 'courses': ['World History', 'American History', 'European History']}\n",
      "{'_id': ObjectId('676fafa67609f810265ba64f'), 'name': 'Alice Tiwari', 'subject': 'Mathematics', 'years_of_experience': 11, 'contact': {'email': 'alice.tiwari@example.com', 'phone': '555-1235'}, 'courses': ['Stats', 'Linear', 'Quantum']}\n"
     ]
    }
   ],
   "source": [
    "my_query={\n",
    "    'years_of_experience':{'$gt':8}\n",
    "}\n",
    "data=collection.find(my_query)\n",
    "for i in data:\n",
    "    print(i)"
   ]
  },
  {
   "cell_type": "code",
   "execution_count": 54,
   "id": "d63f02ea-c1f3-4186-91ba-fef2f680dee5",
   "metadata": {},
   "outputs": [
    {
     "name": "stdout",
     "output_type": "stream",
     "text": [
      "{'_id': ObjectId('676faf187609f810265ba64d'), 'name': 'David Wilson', 'subject': 'English', 'years_of_experience': 5, 'contact': {'email': 'david.wilson@example.com', 'phone': '555-4321'}, 'courses': ['Literature', 'Composition', 'Creative Writing']}\n",
      "{'_id': ObjectId('676faf187609f810265ba64e'), 'name': 'Eve Brown', 'subject': 'Computer Science', 'years_of_experience': 7, 'contact': {'email': 'eve.brown@example.com', 'phone': '555-6789'}, 'courses': ['Programming', 'Data Structures', 'Algorithms']}\n"
     ]
    }
   ],
   "source": [
    "data=collection.find({'years_of_experience':{'$lt':8}})\n",
    "for i in data:\n",
    "    print(i)"
   ]
  },
  {
   "cell_type": "code",
   "execution_count": 56,
   "id": "23e540f4-63dd-4f92-b883-d621b25b055c",
   "metadata": {},
   "outputs": [
    {
     "name": "stdout",
     "output_type": "stream",
     "text": [
      "{'_id': ObjectId('676faf187609f810265ba64b'), 'name': 'Bob Smith', 'subject': 'Science', 'years_of_experience': 8, 'contact': {'email': 'bob.smith@example.com', 'phone': '555-5678'}, 'courses': ['Physics', 'Chemistry', 'Biology']}\n"
     ]
    }
   ],
   "source": [
    "my_query={\n",
    "    'name':{'$regex':\"^B\"}\n",
    "}\n",
    "data=collection.find(my_query)\n",
    "for i in data:\n",
    "    print(i)"
   ]
  },
  {
   "cell_type": "code",
   "execution_count": 57,
   "id": "c38c6b01-c04d-4a82-9e96-dd1ba2e8d032",
   "metadata": {},
   "outputs": [
    {
     "name": "stdout",
     "output_type": "stream",
     "text": [
      "{'_id': ObjectId('676faf187609f810265ba64a'), 'name': 'Alice Johnson', 'subject': 'Mathematics', 'years_of_experience': 10, 'contact': {'email': 'alice.johnson@example.com', 'phone': '555-1234'}, 'courses': ['Algebra', 'Calculus', 'Geometry']}\n",
      "{'_id': ObjectId('676faf187609f810265ba64d'), 'name': 'David Wilson', 'subject': 'English', 'years_of_experience': 5, 'contact': {'email': 'david.wilson@example.com', 'phone': '555-4321'}, 'courses': ['Literature', 'Composition', 'Creative Writing']}\n",
      "{'_id': ObjectId('676faf187609f810265ba64e'), 'name': 'Eve Brown', 'subject': 'Computer Science', 'years_of_experience': 7, 'contact': {'email': 'eve.brown@example.com', 'phone': '555-6789'}, 'courses': ['Programming', 'Data Structures', 'Algorithms']}\n"
     ]
    }
   ],
   "source": [
    "my_query={\n",
    "    'name':{'$regex':\"n$\"}\n",
    "}\n",
    "data=collection.find(my_query)\n",
    "for i in data:\n",
    "    print(i)"
   ]
  },
  {
   "cell_type": "code",
   "execution_count": 59,
   "id": "d4c94007-b69e-43bb-9837-d487e84d4e82",
   "metadata": {},
   "outputs": [
    {
     "name": "stdout",
     "output_type": "stream",
     "text": [
      "{'_id': ObjectId('676faf187609f810265ba64e'), 'name': 'Eve Brown', 'subject': 'Computer Science', 'years_of_experience': 7, 'contact': {'email': 'eve.brown@example.com', 'phone': '555-6789'}, 'courses': ['Programming', 'Data Structures', 'Algorithms']}\n",
      "{'_id': ObjectId('676faf187609f810265ba64d'), 'name': 'David Wilson', 'subject': 'English', 'years_of_experience': 5, 'contact': {'email': 'david.wilson@example.com', 'phone': '555-4321'}, 'courses': ['Literature', 'Composition', 'Creative Writing']}\n",
      "{'_id': ObjectId('676faf187609f810265ba64a'), 'name': 'Alice Johnson', 'subject': 'Mathematics', 'years_of_experience': 10, 'contact': {'email': 'alice.johnson@example.com', 'phone': '555-1234'}, 'courses': ['Algebra', 'Calculus', 'Geometry']}\n"
     ]
    }
   ],
   "source": [
    "my_query={\n",
    "    'name':{'$regex':\"n$\"}\n",
    "}\n",
    "data=collection.find(my_query).sort('name',-1)\n",
    "for i in data:\n",
    "    print(i)"
   ]
  },
  {
   "cell_type": "code",
   "execution_count": 63,
   "id": "0d40dda5-72c2-4e91-910d-333c4640a9d3",
   "metadata": {},
   "outputs": [],
   "source": [
    "filter={\"name\":'Alice Tiwari'}\n",
    "update={\"$set\":{'subject':'Economics'}}\n",
    "        \n",
    "data=collection.update_one(filter,update)"
   ]
  },
  {
   "cell_type": "code",
   "execution_count": 64,
   "id": "0d2933fc-f219-4050-8e0d-b9edfae896db",
   "metadata": {},
   "outputs": [],
   "source": [
    "filter={'name':'Alice Tiwari'}\n",
    "data=collection.delete_one(filter)"
   ]
  },
  {
   "cell_type": "code",
   "execution_count": 66,
   "id": "2a074b2b-599b-4164-9467-0a2007fad81f",
   "metadata": {},
   "outputs": [],
   "source": [
    "filter={}\n",
    "update={\"$set\":{'subject':'abc'}}\n",
    "data=collection.update_many(filter,update)"
   ]
  },
  {
   "cell_type": "code",
   "execution_count": 67,
   "id": "a3ef0e44-298f-40c9-9e1c-11720e21c717",
   "metadata": {},
   "outputs": [],
   "source": [
    "filter={'subject':'abc'}\n",
    "data=collection.delete_many(filter)"
   ]
  },
  {
   "cell_type": "code",
   "execution_count": null,
   "id": "38dd5d9c-9d97-4789-bab5-d322d9047a5c",
   "metadata": {},
   "outputs": [],
   "source": []
  }
 ],
 "metadata": {
  "kernelspec": {
   "display_name": "Python 3 (ipykernel)",
   "language": "python",
   "name": "python3"
  },
  "language_info": {
   "codemirror_mode": {
    "name": "ipython",
    "version": 3
   },
   "file_extension": ".py",
   "mimetype": "text/x-python",
   "name": "python",
   "nbconvert_exporter": "python",
   "pygments_lexer": "ipython3",
   "version": "3.11.7"
  }
 },
 "nbformat": 4,
 "nbformat_minor": 5
}
